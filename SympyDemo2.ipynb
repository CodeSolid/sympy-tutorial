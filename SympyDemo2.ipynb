{
 "cells": [
  {
   "cell_type": "code",
   "execution_count": 1,
   "id": "606ff95b-02b9-4a9a-a1e1-ae45c1e30f44",
   "metadata": {},
   "outputs": [
    {
     "name": "stdout",
     "output_type": "stream",
     "text": [
      "IPython console for SymPy 1.10.1 (Python 3.10.2-64-bit) (ground types: python)\n",
      "\n",
      "These commands were executed:\n",
      ">>> from sympy import *\n",
      ">>> x, y, z, t = symbols('x y z t')\n",
      ">>> k, m, n = symbols('k m n', integer=True)\n",
      ">>> f, g, h = symbols('f g h', cls=Function)\n",
      ">>> init_printing()\n",
      "\n",
      "Documentation can be found at https://docs.sympy.org/1.10.1/\n",
      "\n"
     ]
    }
   ],
   "source": [
    "from sympy import init_session\n",
    "init_session()\n"
   ]
  },
  {
   "cell_type": "code",
   "execution_count": 2,
   "id": "82fb7cd2-8c55-4076-be84-78e4fe3aba3d",
   "metadata": {},
   "outputs": [
    {
     "data": {
      "text/plain": [
       "sympy.core.function.UndefinedFunction"
      ]
     },
     "execution_count": 2,
     "metadata": {},
     "output_type": "execute_result"
    }
   ],
   "source": [
    "type(f)"
   ]
  },
  {
   "cell_type": "code",
   "execution_count": 3,
   "id": "c27ad6b2",
   "metadata": {},
   "outputs": [
    {
     "data": {
      "image/png": "[encoded data removed]",
      "text/latex": [
       "$\\displaystyle \\log{\\left(x \\right)}$"
      ],
      "text/plain": [
       "log(x)"
      ]
     },
     "execution_count": 3,
     "metadata": {},
     "output_type": "execute_result"
    }
   ],
   "source": [
    "x = symbols('x')\n",
    "#Integral(sqrt(1/x), x)\n",
    "integrate(1/x, x)"
   ]
  },
  {
   "cell_type": "code",
   "execution_count": 4,
   "id": "c531750d-01c4-44ee-9107-ab089ca14b57",
   "metadata": {},
   "outputs": [],
   "source": [
    "f =  sin(x) + 7"
   ]
  },
  {
   "cell_type": "code",
   "execution_count": 5,
   "id": "1bf401d3-0c92-48f2-8488-49f93355da4e",
   "metadata": {},
   "outputs": [
    {
     "data": {
      "text/plain": [
       "sympy.core.add.Add"
      ]
     },
     "execution_count": 5,
     "metadata": {},
     "output_type": "execute_result"
    }
   ],
   "source": [
    "type(f)"
   ]
  },
  {
   "cell_type": "code",
   "execution_count": 6,
   "id": "937de9ae-37a7-45b6-add0-3520f1ef3513",
   "metadata": {},
   "outputs": [
    {
     "data": {
      "text/plain": [
       "\"Add(sin(Symbol('x')), Integer(7))\""
      ]
     },
     "execution_count": 6,
     "metadata": {},
     "output_type": "execute_result"
    }
   ],
   "source": [
    "srepr(f)"
   ]
  },
  {
   "cell_type": "code",
   "execution_count": 7,
   "id": "65f6f972-105f-47d5-a2d6-65cfc56ee574",
   "metadata": {},
   "outputs": [],
   "source": [
    "del g\n",
    "g = ( sin(x) + 7 ) / sqrt(2)"
   ]
  },
  {
   "cell_type": "code",
   "execution_count": 8,
   "id": "1dc744ee-a39f-4666-9296-6d927476b835",
   "metadata": {},
   "outputs": [
    {
     "data": {
      "text/plain": [
       "sympy.core.mul.Mul"
      ]
     },
     "execution_count": 8,
     "metadata": {},
     "output_type": "execute_result"
    }
   ],
   "source": [
    "type(g)"
   ]
  },
  {
   "cell_type": "code",
   "execution_count": 9,
   "id": "18975af9-fe4d-4314-bd50-02ab05018db5",
   "metadata": {},
   "outputs": [
    {
     "data": {
      "text/plain": [
       "\"Mul(Rational(1, 2), Pow(Integer(2), Rational(1, 2)), Add(sin(Symbol('x')), Integer(7)))\""
      ]
     },
     "execution_count": 9,
     "metadata": {},
     "output_type": "execute_result"
    }
   ],
   "source": [
    "srepr(g)"
   ]
  },
  {
   "cell_type": "code",
   "execution_count": 10,
   "id": "9fbc8040-4f0a-46fb-aa83-e4c080f8ea7a",
   "metadata": {},
   "outputs": [
    {
     "data": {
      "image/png": "[encoded data removed]",
      "text/latex": [
       "$\\displaystyle \\frac{\\sqrt{2} \\left(\\sin{\\left(x \\right)} + 7\\right)}{2}$"
      ],
      "text/plain": [
       "√2⋅(sin(x) + 7)\n",
       "───────────────\n",
       "       2       "
      ]
     },
     "execution_count": 10,
     "metadata": {},
     "output_type": "execute_result"
    }
   ],
   "source": [
    "g"
   ]
  },
  {
   "cell_type": "code",
   "execution_count": 11,
   "id": "135311e6-99be-499a-abfe-bac1d8065ea8",
   "metadata": {},
   "outputs": [],
   "source": [
    "h = 1 / sqrt(2)"
   ]
  },
  {
   "cell_type": "code",
   "execution_count": 12,
   "id": "112520d2-9074-4c98-9baa-5ce36ba8a1a2",
   "metadata": {},
   "outputs": [
    {
     "data": {
      "image/png": "[encoded data removed]",
      "text/latex": [
       "$\\displaystyle \\frac{\\sqrt{2}}{2}$"
      ],
      "text/plain": [
       "√2\n",
       "──\n",
       "2 "
      ]
     },
     "execution_count": 12,
     "metadata": {},
     "output_type": "execute_result"
    }
   ],
   "source": [
    "h"
   ]
  },
  {
   "cell_type": "code",
   "execution_count": 13,
   "id": "cd5b2686-c6d2-44f8-a78b-8aabf0cc9dab",
   "metadata": {},
   "outputs": [
    {
     "data": {
      "image/png": "[encoded data removed]",
      "text/latex": [
       "$\\displaystyle 2 x + 1$"
      ],
      "text/plain": [
       "2⋅x + 1"
      ]
     },
     "execution_count": 13,
     "metadata": {},
     "output_type": "execute_result"
    }
   ],
   "source": [
    "f = 2*x + 1\n",
    "f"
   ]
  },
  {
   "cell_type": "code",
   "execution_count": 14,
   "id": "f6ece62a-d703-46e4-ae21-9927dcce0b66",
   "metadata": {},
   "outputs": [
    {
     "data": {
      "image/png": "[encoded data removed]",
      "text/latex": [
       "$\\displaystyle \\left(2 x + 1\\right)^{2}$"
      ],
      "text/plain": [
       "         2\n",
       "(2⋅x + 1) "
      ]
     },
     "execution_count": 14,
     "metadata": {},
     "output_type": "execute_result"
    }
   ],
   "source": [
    "(2*x+1)**2"
   ]
  },
  {
   "cell_type": "code",
   "execution_count": 15,
   "id": "131a1c0b-c355-4494-809e-d96a75adb045",
   "metadata": {},
   "outputs": [
    {
     "data": {
      "image/png": "[encoded data removed]",
      "text/latex": [
       "$\\displaystyle 4 x^{2} + 4 x + 1$"
      ],
      "text/plain": [
       "   2          \n",
       "4⋅x  + 4⋅x + 1"
      ]
     },
     "execution_count": 15,
     "metadata": {},
     "output_type": "execute_result"
    }
   ],
   "source": [
    "expand((2*x + 1)**2)"
   ]
  },
  {
   "cell_type": "code",
   "execution_count": 16,
   "id": "81bff881-de10-424e-a1db-2bccd49a7844",
   "metadata": {},
   "outputs": [
    {
     "data": {
      "image/png": "[encoded data removed]",
      "text/latex": [
       "$\\displaystyle \\left(2 x + 1\\right)^{2}$"
      ],
      "text/plain": [
       "         2\n",
       "(2⋅x + 1) "
      ]
     },
     "execution_count": 16,
     "metadata": {},
     "output_type": "execute_result"
    }
   ],
   "source": [
    "factor(4*x**2 + 4*x + 1)"
   ]
  },
  {
   "cell_type": "code",
   "execution_count": 17,
   "id": "46a0610e-b2ee-45b7-89bd-e7698c92be9e",
   "metadata": {},
   "outputs": [
    {
     "data": {
      "image/png": "[encoded data removed]",
      "text/latex": [
       "$\\displaystyle \\left( 1, \\  \\left[ \\left( 2 x + 1, \\  2\\right)\\right]\\right)$"
      ],
      "text/plain": [
       "(1, [(2⋅x + 1, 2)])"
      ]
     },
     "execution_count": 17,
     "metadata": {},
     "output_type": "execute_result"
    }
   ],
   "source": [
    "factor_list(4*x**2 + 4*x + 1)"
   ]
  },
  {
   "cell_type": "code",
   "execution_count": 18,
   "id": "ef0f412d-08dd-4b72-999f-daa8b7e298d3",
   "metadata": {},
   "outputs": [
    {
     "data": {
      "text/plain": [
       "(-1.2599210498948743-2.1822472719434423j)"
      ]
     },
     "execution_count": 18,
     "metadata": {},
     "output_type": "execute_result"
    }
   ],
   "source": [
    "(-2)**(4/3)"
   ]
  },
  {
   "cell_type": "code",
   "execution_count": 19,
   "id": "e97f2265-946b-45bd-8183-37c6b445c734",
   "metadata": {},
   "outputs": [
    {
     "data": {
      "image/png": "[encoded data removed]",
      "text/latex": [
       "$\\displaystyle -0.125$"
      ],
      "text/plain": [
       "-0.125"
      ]
     },
     "execution_count": 19,
     "metadata": {},
     "output_type": "execute_result"
    }
   ],
   "source": [
    "1/(-2**3)"
   ]
  },
  {
   "cell_type": "code",
   "execution_count": 20,
   "id": "73d89907-c0b5-45a7-b0c8-6093b4e9e15e",
   "metadata": {},
   "outputs": [
    {
     "data": {
      "image/png": "[encoded data removed]",
      "text/latex": [
       "$\\displaystyle 0.000244140625$"
      ],
      "text/plain": [
       "0.000244140625"
      ]
     },
     "execution_count": 20,
     "metadata": {},
     "output_type": "execute_result"
    }
   ],
   "source": [
    "(-0.125)**4"
   ]
  },
  {
   "cell_type": "code",
   "execution_count": 21,
   "id": "0488baf2-ac6f-4ff6-936a-5e68f0551e4c",
   "metadata": {},
   "outputs": [
    {
     "data": {
      "image/png": "[encoded data removed]",
      "text/latex": [
       "$\\displaystyle 16$"
      ],
      "text/plain": [
       "16"
      ]
     },
     "execution_count": 21,
     "metadata": {},
     "output_type": "execute_result"
    }
   ],
   "source": [
    "2**4"
   ]
  },
  {
   "cell_type": "code",
   "execution_count": 22,
   "id": "62ab3fd1-a842-4211-9250-1834e20e589f",
   "metadata": {},
   "outputs": [
    {
     "data": {
      "image/png": "[encoded data removed]",
      "text/latex": [
       "$\\displaystyle 2.51984209978975$"
      ],
      "text/plain": [
       "2.5198420997897464"
      ]
     },
     "execution_count": 22,
     "metadata": {},
     "output_type": "execute_result"
    }
   ],
   "source": [
    "16**(1/3)"
   ]
  },
  {
   "cell_type": "code",
   "execution_count": 23,
   "id": "c70b0d36-a148-473b-91cc-8720ba3bb78a",
   "metadata": {},
   "outputs": [],
   "source": [
    "h = x**3 - 6*x**2 - 10"
   ]
  },
  {
   "cell_type": "code",
   "execution_count": 24,
   "id": "6ad57ec1-3b12-43ce-b61f-d803f9fdd939",
   "metadata": {},
   "outputs": [
    {
     "data": {
      "image/png": "[encoded data removed]",
      "text/latex": [
       "$\\displaystyle -170$"
      ],
      "text/plain": [
       "-170"
      ]
     },
     "execution_count": 24,
     "metadata": {},
     "output_type": "execute_result"
    }
   ],
   "source": [
    "h.subs(x, -4)"
   ]
  },
  {
   "cell_type": "code",
   "execution_count": 25,
   "id": "07ff0daf-1e22-42a8-8694-f28c43078a9b",
   "metadata": {},
   "outputs": [],
   "source": [
    "# SymPy Demo Original:\n"
   ]
  },
  {
   "cell_type": "markdown",
   "id": "ae004301-dae3-43d6-893b-ac79c66cbb37",
   "metadata": {},
   "source": [
    "# Questions:\n",
    "\n",
    "* Packages\n",
    "* Calculus goodies\n",
    "* Plotting\n",
    "* Solving equations\n",
    "* LaTeX"
   ]
  },
  {
   "cell_type": "code",
   "execution_count": 26,
   "id": "b6efb2fc-75be-4096-bcbe-ac9cc3dcecfe",
   "metadata": {},
   "outputs": [],
   "source": [
    "from sympy import *"
   ]
  },
  {
   "cell_type": "code",
   "execution_count": 27,
   "id": "83393bcc-9fb9-4be0-8dd4-58c991a41f93",
   "metadata": {},
   "outputs": [],
   "source": [
    "x,y = symbols('x y')"
   ]
  },
  {
   "cell_type": "code",
   "execution_count": 28,
   "id": "ab396fb7-40e2-40e5-a0d8-a167d23f23d8",
   "metadata": {},
   "outputs": [
    {
     "data": {
      "image/png": "[encoded data removed]",
      "text/latex": [
       "$\\displaystyle - \\sin{\\left(x \\right)} + \\cos{\\left(x \\right)}$"
      ],
      "text/plain": [
       "-sin(x) + cos(x)"
      ]
     },
     "execution_count": 28,
     "metadata": {},
     "output_type": "execute_result"
    }
   ],
   "source": [
    "diff(sin(x) + cos(x))"
   ]
  },
  {
   "cell_type": "code",
   "execution_count": 29,
   "id": "ade6eef2-a190-409d-bb9d-b31543363aac",
   "metadata": {},
   "outputs": [
    {
     "data": {
      "image/png": "[encoded data removed]",
      "text/latex": [
       "$\\displaystyle \\sin{\\left(x \\right)} + \\cos{\\left(x \\right)}$"
      ],
      "text/plain": [
       "sin(x) + cos(x)"
      ]
     },
     "execution_count": 29,
     "metadata": {},
     "output_type": "execute_result"
    }
   ],
   "source": [
    "integrate(-sin(x) + cos(x))"
   ]
  },
  {
   "cell_type": "code",
   "execution_count": 30,
   "id": "05a0bb80-126b-41bb-8feb-d736aa8bfb86",
   "metadata": {},
   "outputs": [
    {
     "data": {
      "text/plain": [
       "<sympy.plotting.plot.Plot at 0x11c4554e0>"
      ]
     },
     "execution_count": 30,
     "metadata": {},
     "output_type": "execute_result"
    }
   ],
   "source": [
    "plot(sin(x), cos(x))"
   ]
  },
  {
   "cell_type": "code",
   "execution_count": 31,
   "id": "ea3bab3e-c05d-4d2e-b8ff-d4bc1a20ee5a",
   "metadata": {},
   "outputs": [],
   "source": [
    "f = 3*x**2 + 2*x + 17"
   ]
  },
  {
   "cell_type": "code",
   "execution_count": 32,
   "id": "090a055c-4563-4ec2-be25-26bf5ef9a05e",
   "metadata": {},
   "outputs": [
    {
     "data": {
      "image/png": "[encoded data removed]",
      "text/latex": [
       "$\\displaystyle 3 x^{2} + 2 x + 17$"
      ],
      "text/plain": [
       "   2           \n",
       "3⋅x  + 2⋅x + 17"
      ]
     },
     "execution_count": 32,
     "metadata": {},
     "output_type": "execute_result"
    }
   ],
   "source": [
    "f"
   ]
  },
  {
   "cell_type": "code",
   "execution_count": 33,
   "id": "fb000218-105e-4a9f-be3a-2fdbe6f41a76",
   "metadata": {},
   "outputs": [
    {
     "data": {
      "image/png": "[encoded data removed]",
      "text/latex": [
       "$\\displaystyle 6 x + 2$"
      ],
      "text/plain": [
       "6⋅x + 2"
      ]
     },
     "execution_count": 33,
     "metadata": {},
     "output_type": "execute_result"
    }
   ],
   "source": [
    "diff(f)"
   ]
  },
  {
   "cell_type": "code",
   "execution_count": 34,
   "id": "335b72d9-dd0d-4bb5-bdcd-f4f48a96f856",
   "metadata": {},
   "outputs": [
    {
     "data": {
      "text/plain": [
       "'x^{3} + x^{2} + 17 x'"
      ]
     },
     "execution_count": 34,
     "metadata": {},
     "output_type": "execute_result"
    }
   ],
   "source": [
    "latex(integrate(f))"
   ]
  },
  {
   "cell_type": "code",
   "execution_count": 35,
   "id": "b14faab9-734b-45bf-8218-796d701bd42d",
   "metadata": {},
   "outputs": [
    {
     "data": {
      "image/png": "[encoded data removed]",
      "text/latex": [
       "$\\displaystyle \\int \\left(3 x^{2} + 2 x + 17\\right)\\, dx$"
      ],
      "text/plain": [
       "⌠                     \n",
       "⎮ ⎛   2           ⎞   \n",
       "⎮ ⎝3⋅x  + 2⋅x + 17⎠ dx\n",
       "⌡                     "
      ]
     },
     "execution_count": 35,
     "metadata": {},
     "output_type": "execute_result"
    }
   ],
   "source": [
    "Integral(f)"
   ]
  },
  {
   "cell_type": "code",
   "execution_count": 36,
   "id": "72a417ca-be31-49a7-9025-58c10b564ee0",
   "metadata": {},
   "outputs": [
    {
     "data": {
      "text/plain": [
       "sympy.integrals.integrals.Integral"
      ]
     },
     "execution_count": 36,
     "metadata": {},
     "output_type": "execute_result"
    }
   ],
   "source": [
    "type(Integral(f))"
   ]
  },
  {
   "cell_type": "markdown",
   "id": "e717dec7-7596-493d-9c16-ddc8fa5993ad",
   "metadata": {},
   "source": [
    "$ x^{3} $"
   ]
  },
  {
   "cell_type": "markdown",
   "id": "b13dcbea-feb3-45e2-ad9e-27b81f3edc97",
   "metadata": {},
   "source": [
    "$ \n",
    "x^{3} + x^{2} + 17 x \n",
    "$"
   ]
  },
  {
   "cell_type": "code",
   "execution_count": null,
   "id": "b91eb95b-dc21-4ed2-ba80-4267cf3f1005",
   "metadata": {},
   "outputs": [],
   "source": []
  }
 ],
 "metadata": {
  "kernelspec": {
   "display_name": "Python 3 (ipykernel)",
   "language": "python",
   "name": "python3"
  },
  "language_info": {
   "codemirror_mode": {
    "name": "ipython",
    "version": 3
   },
   "file_extension": ".py",
   "mimetype": "text/x-python",
   "name": "python",
   "nbconvert_exporter": "python",
   "pygments_lexer": "ipython3",
   "version": "3.10.2"
  },
  "vscode": {
   "interpreter": {
    "hash": "1f1dbf3eb53dc9744073687cf1e622a76d63aa6ac00581b039d5cc62fe2ee68a"
   }
  }
 },
 "nbformat": 4,
 "nbformat_minor": 5
}
