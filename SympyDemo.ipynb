{
 "cells": [
  {
   "cell_type": "markdown",
   "id": "85c3c3d2-0aae-428a-aff3-1eab41297d89",
   "metadata": {},
   "source": [
    "# SymPy Demo\n",
    "\n",
    "This notebook is a companion to the CodeSolid article, [SymPy:  Solving Math Equations in Python](https://codesolid.com/sympy-solving-math-equations-in-python/)."
   ]
  },
  {
   "cell_type": "markdown",
   "id": "bab01d74-30d8-4aed-ae6c-3de8f061b400",
   "metadata": {},
   "source": [
    "## Basic SetUp"
   ]
  },
  {
   "cell_type": "code",
   "execution_count": 1,
   "id": "ff0baf6e-78eb-45dd-8d4c-f6328f63c086",
   "metadata": {},
   "outputs": [
    {
     "name": "stdout",
     "output_type": "stream",
     "text": [
      "IPython console for SymPy 1.10.1 (Python 3.10.2-64-bit) (ground types: python)\n",
      "\n",
      "These commands were executed:\n",
      ">>> from sympy import *\n",
      ">>> x, y, z, t = symbols('x y z t')\n",
      ">>> k, m, n = symbols('k m n', integer=True)\n",
      ">>> f, g, h = symbols('f g h', cls=Function)\n",
      ">>> init_printing()\n",
      "\n",
      "Documentation can be found at https://docs.sympy.org/1.10.1/\n",
      "\n"
     ]
    }
   ],
   "source": [
    "from sympy import init_session\n",
    "init_session()"
   ]
  },
  {
   "cell_type": "markdown",
   "id": "e327d1fc-fa42-44aa-92bf-4629866aa38a",
   "metadata": {},
   "source": [
    "To learn what was imported, run the code below:\n",
    "\n",
    "```python\n",
    "import sympy\n",
    "dir(sympy)\n",
    "```"
   ]
  },
  {
   "cell_type": "markdown",
   "id": "8a1e4c87-a20e-4069-a830-80822e064115",
   "metadata": {},
   "source": [
    "The cell belows shows how to define the simple difference of squares function:\n",
    "$$\n",
    "x^{2} - 9\n",
    "$$"
   ]
  },
  {
   "cell_type": "code",
   "execution_count": 2,
   "id": "a88737a9-6fcf-457b-afbd-da30c8d74af0",
   "metadata": {},
   "outputs": [],
   "source": [
    "f = x**2 - 9"
   ]
  },
  {
   "cell_type": "code",
   "execution_count": 3,
   "id": "3a15e730-c37b-477d-baab-529796632006",
   "metadata": {},
   "outputs": [
    {
     "data": {
      "image/png": "[encoded data removed]",
      "text/latex": [
       "$\\displaystyle x^{2} - 9$"
      ],
      "text/plain": [
       " 2    \n",
       "x  - 9"
      ]
     },
     "execution_count": 3,
     "metadata": {},
     "output_type": "execute_result"
    }
   ],
   "source": [
    "f"
   ]
  },
  {
   "cell_type": "code",
   "execution_count": 4,
   "id": "eeded898-d362-472e-b64f-55b018d88819",
   "metadata": {},
   "outputs": [
    {
     "data": {
      "image/png": "[encoded data removed]",
      "text/latex": [
       "$\\displaystyle \\left[ -3, \\  3\\right]$"
      ],
      "text/plain": [
       "[-3, 3]"
      ]
     },
     "execution_count": 4,
     "metadata": {},
     "output_type": "execute_result"
    }
   ],
   "source": [
    "solve(f, x)"
   ]
  },
  {
   "cell_type": "markdown",
   "id": "fbe5296f-ee55-4f7e-8958-47e3e74dfbdb",
   "metadata": {},
   "source": [
    "This implicitly set the expression equal to zero and solved for that. In other words, the solution shown above is the solution to the equation:"
   ]
  },
  {
   "cell_type": "markdown",
   "id": "da5b380e-da1e-440b-997a-57aa4e7031a9",
   "metadata": {},
   "source": [
    "$\n",
    "x^{2} - 9 = 0\n",
    "$"
   ]
  },
  {
   "cell_type": "code",
   "execution_count": 6,
   "id": "f0b66ed1-2870-4de2-af75-dc7ce125c8a5",
   "metadata": {},
   "outputs": [
    {
     "data": {
      "image/png": "[encoded data removed]",
      "text/latex": [
       "$\\displaystyle \\left[ -3, \\  3\\right]$"
      ],
      "text/plain": [
       "[-3, 3]"
      ]
     },
     "execution_count": 6,
     "metadata": {},
     "output_type": "execute_result"
    }
   ],
   "source": [
    "solve(f)"
   ]
  },
  {
   "cell_type": "code",
   "execution_count": 7,
   "id": "766c24be-5ffc-4fca-be65-286a7417a0f8",
   "metadata": {},
   "outputs": [
    {
     "data": {
      "image/png": "[encoded data removed]",
      "text/latex": [
       "$\\displaystyle \\left(x - 3\\right) \\left(x + 3\\right)$"
      ],
      "text/plain": [
       "(x - 3)⋅(x + 3)"
      ]
     },
     "execution_count": 7,
     "metadata": {},
     "output_type": "execute_result"
    }
   ],
   "source": [
    "factor(f)"
   ]
  },
  {
   "cell_type": "markdown",
   "id": "84fb14f1-2aec-469c-ad5e-c3595a6ab973",
   "metadata": {},
   "source": [
    "Check the function's solution by substituting the values returned by solve for x.  Verify that the result is zero."
   ]
  },
  {
   "cell_type": "code",
   "execution_count": 8,
   "id": "f4b529e6-52bf-492a-9a74-d2becc847b64",
   "metadata": {},
   "outputs": [
    {
     "name": "stdout",
     "output_type": "stream",
     "text": [
      "True\n",
      "True\n"
     ]
    }
   ],
   "source": [
    "print(f.subs(x, 3) == 0)\n",
    "print(f.subs(x, -3) == 0.0)"
   ]
  },
  {
   "cell_type": "code",
   "execution_count": 9,
   "id": "056fc068-e478-415e-ac01-c2e5d4716319",
   "metadata": {},
   "outputs": [
    {
     "data": {
      "text/plain": [
       "'x^{2} - 9'"
      ]
     },
     "execution_count": 9,
     "metadata": {},
     "output_type": "execute_result"
    }
   ],
   "source": [
    "latex(f)"
   ]
  },
  {
   "cell_type": "code",
   "execution_count": 10,
   "id": "e1e9f622-22d3-44ec-af88-6e4e2b072807",
   "metadata": {},
   "outputs": [
    {
     "data": {
      "image/png": "[encoded data removed]",
      "text/plain": [
       "<Figure size 432x288 with 1 Axes>"
      ]
     },
     "metadata": {
      "needs_background": "light"
     },
     "output_type": "display_data"
    }
   ],
   "source": [
    "%matplotlib inline\n",
    "p = plot(f, xlim=(-8, 8),show=False, \n",
    "         title=\"Plot of x squared minus 9\")\n",
    "p.show()\n"
   ]
  },
  {
   "cell_type": "markdown",
   "id": "899f57d5-8ed8-4b21-965f-d005edd2f04b",
   "metadata": {},
   "source": [
    "Get the function's definition in LaTeX:"
   ]
  },
  {
   "cell_type": "code",
   "execution_count": 11,
   "id": "b389988c-d114-4b29-b70c-dbf02f5bf8a2",
   "metadata": {},
   "outputs": [
    {
     "data": {
      "image/png": "[encoded data removed]",
      "text/latex": [
       "$\\displaystyle \\frac{\\sqrt{x}}{1 - x^{2}}$"
      ],
      "text/plain": [
       "  √x  \n",
       "──────\n",
       "     2\n",
       "1 - x "
      ]
     },
     "execution_count": 11,
     "metadata": {},
     "output_type": "execute_result"
    }
   ],
   "source": [
    "g = sqrt(x)/( 1 - x**2)\n",
    "g"
   ]
  },
  {
   "cell_type": "code",
   "execution_count": 12,
   "id": "a73199e0-1164-45ad-a1a0-5dbaff9d8d22",
   "metadata": {},
   "outputs": [
    {
     "name": "stdout",
     "output_type": "stream",
     "text": [
      "\\frac{\\sqrt{x}}{1 - x^{2}}\n"
     ]
    },
    {
     "data": {
      "text/plain": [
       "'\\\\frac{\\\\sqrt{x}}{1 - x^{2}}'"
      ]
     },
     "execution_count": 12,
     "metadata": {},
     "output_type": "execute_result"
    }
   ],
   "source": [
    "print_latex(g)\n",
    "latex(g)"
   ]
  },
  {
   "cell_type": "code",
   "execution_count": null,
   "id": "3df2061e-b307-46ec-9fa5-cf54fbc59f74",
   "metadata": {},
   "outputs": [],
   "source": []
  },
  {
   "cell_type": "markdown",
   "id": "7f9e1538-201e-4452-91a9-23bdb41357e2",
   "metadata": {},
   "source": [
    "$$\n",
    "\\frac{\\sqrt{x}}{1 - x^{2}}\n",
    "$$"
   ]
  },
  {
   "cell_type": "code",
   "execution_count": 13,
   "id": "96cd5bac-5948-43e6-b958-e4bd03f11898",
   "metadata": {},
   "outputs": [
    {
     "data": {
      "image/png": "[encoded data removed]",
      "text/latex": [
       "$\\displaystyle \\frac{2}{\\sqrt{x - 2}}$"
      ],
      "text/plain": [
       "    2    \n",
       "─────────\n",
       "  _______\n",
       "╲╱ x - 2 "
      ]
     },
     "execution_count": 13,
     "metadata": {},
     "output_type": "execute_result"
    }
   ],
   "source": [
    "g = 2 / (sqrt(x -2))\n",
    "g"
   ]
  },
  {
   "cell_type": "code",
   "execution_count": 14,
   "id": "e0f28d34-6b4f-43fc-b31a-95dcbaa2a695",
   "metadata": {},
   "outputs": [
    {
     "name": "stdout",
     "output_type": "stream",
     "text": [
      "\\frac{2}{\\sqrt{x - 2}}\n"
     ]
    }
   ],
   "source": [
    "print_latex(g)"
   ]
  },
  {
   "cell_type": "markdown",
   "id": "9b528882-0749-446e-a91a-2ae9b9d79216",
   "metadata": {},
   "source": [
    "Functions are not always printed as you enter them.  Sometimes some simplification takes place."
   ]
  },
  {
   "cell_type": "code",
   "execution_count": 15,
   "id": "af1408bb-6c8c-4ea2-b6b4-0a4ec0f9f138",
   "metadata": {},
   "outputs": [
    {
     "data": {
      "image/png": "[encoded data removed]",
      "text/latex": [
       "$\\displaystyle \\frac{\\sqrt{2} \\left(\\sin{\\left(x \\right)} + 1\\right)}{2}$"
      ],
      "text/plain": [
       "√2⋅(sin(x) + 1)\n",
       "───────────────\n",
       "       2       "
      ]
     },
     "execution_count": 15,
     "metadata": {},
     "output_type": "execute_result"
    }
   ],
   "source": [
    "( sin(x) + 1 ) / sqrt(2)\n"
   ]
  },
  {
   "cell_type": "markdown",
   "id": "06b72f1f-90c7-47b8-a82a-22f7e1309087",
   "metadata": {},
   "source": [
    "$$\n",
    "\\frac{\\sqrt 2}{\\sqrt 2}\n",
    "$$"
   ]
  },
  {
   "cell_type": "code",
   "execution_count": 16,
   "id": "aba7aee2-38f3-424b-92ac-4d7b0a0f1bda",
   "metadata": {},
   "outputs": [],
   "source": [
    "f = x**2 + 9"
   ]
  },
  {
   "cell_type": "code",
   "execution_count": 17,
   "id": "0d348e4a-6d8f-4a02-bc5f-7445e29f238a",
   "metadata": {},
   "outputs": [
    {
     "name": "stdout",
     "output_type": "stream",
     "text": [
      "Add(Pow(Symbol('x'), Integer(2)), Integer(-9))\n"
     ]
    }
   ],
   "source": [
    "f = x**2 - 9\n",
    "print(srepr(f))"
   ]
  },
  {
   "cell_type": "code",
   "execution_count": 18,
   "id": "8c3361e2-f181-4b3a-a82f-b86be40729d9",
   "metadata": {},
   "outputs": [],
   "source": [
    "f = (x**2 - 25)/(x**2 + 2*x -15)"
   ]
  },
  {
   "cell_type": "code",
   "execution_count": 19,
   "id": "24d80fe4-137a-4f0a-b5a9-087d119b1489",
   "metadata": {},
   "outputs": [
    {
     "data": {
      "image/png": "[encoded data removed]",
      "text/latex": [
       "$\\displaystyle 1.25000000555112$"
      ],
      "text/plain": [
       "1.25000000555112"
      ]
     },
     "execution_count": 19,
     "metadata": {},
     "output_type": "execute_result"
    }
   ],
   "source": [
    "f.subs(x, -4.99999999)"
   ]
  },
  {
   "cell_type": "code",
   "execution_count": 20,
   "id": "7c17319b-7804-43e6-8bfc-d7467f27fdc3",
   "metadata": {},
   "outputs": [
    {
     "data": {
      "image/png": "[encoded data removed]",
      "text/latex": [
       "$\\displaystyle 1.24999999722444$"
      ],
      "text/plain": [
       "1.24999999722444"
      ]
     },
     "execution_count": 20,
     "metadata": {},
     "output_type": "execute_result"
    }
   ],
   "source": [
    "f.subs(x, -5.0000001)"
   ]
  },
  {
   "cell_type": "markdown",
   "id": "d299da5d-7c87-48a7-a8c6-0d2f8d8d7dd4",
   "metadata": {},
   "source": [
    "## Some Basic Calculus in SymPy"
   ]
  },
  {
   "cell_type": "markdown",
   "id": "c70abcb4-347f-4444-b1e3-f141ce789b81",
   "metadata": {},
   "source": [
    "In the next cell, we compute the value of the following limit problem:\n",
    "$$\n",
    "\\lim_{x \\to -5} \\frac{x^{2} - 25}{x^{2} + 2 x - 15}\n",
    "$$"
   ]
  },
  {
   "cell_type": "code",
   "execution_count": 21,
   "id": "27106759-ff26-438b-a240-46a759fd993b",
   "metadata": {},
   "outputs": [
    {
     "data": {
      "image/png": "[encoded data removed]",
      "text/latex": [
       "$\\displaystyle \\frac{5}{4}$"
      ],
      "text/plain": [
       "5/4"
      ]
     },
     "execution_count": 21,
     "metadata": {},
     "output_type": "execute_result"
    }
   ],
   "source": [
    "f = (x**2 - 25)/(x**2 + 2*x - 15)\n",
    "limit(f,x,-5)"
   ]
  },
  {
   "cell_type": "markdown",
   "id": "107ab0cd-77a0-47b9-8f9d-1325ec71e3fe",
   "metadata": {},
   "source": [
    "Here we work the following basic derivitive problem:\n",
    "\n",
    "$\n",
    "\\frac{d}{dx}\\ \\ 4x^{3} + sin\\ x - 19 \n",
    "$"
   ]
  },
  {
   "cell_type": "code",
   "execution_count": 22,
   "id": "25c2713b-d1da-4f82-88ab-eab6642f9155",
   "metadata": {},
   "outputs": [
    {
     "data": {
      "image/png": "[encoded data removed]",
      "text/latex": [
       "$\\displaystyle 12 x^{2} + \\cos{\\left(x \\right)}$"
      ],
      "text/plain": [
       "    2         \n",
       "12⋅x  + cos(x)"
      ]
     },
     "execution_count": 22,
     "metadata": {},
     "output_type": "execute_result"
    }
   ],
   "source": [
    "diff(4*x**3 + sin(x) - 19)"
   ]
  },
  {
   "cell_type": "code",
   "execution_count": 23,
   "id": "f5ec7faa-4c44-4e55-ab55-8eb1f6edefcd",
   "metadata": {},
   "outputs": [
    {
     "data": {
      "image/png": "[encoded data removed]",
      "text/plain": [
       "<Figure size 432x288 with 1 Axes>"
      ]
     },
     "metadata": {
      "needs_background": "light"
     },
     "output_type": "display_data"
    },
    {
     "data": {
      "text/plain": [
       "<sympy.plotting.plot.Plot at 0x11ccb97b0>"
      ]
     },
     "execution_count": 23,
     "metadata": {},
     "output_type": "execute_result"
    }
   ],
   "source": [
    "plot(x**2 + 25)"
   ]
  },
  {
   "cell_type": "code",
   "execution_count": 24,
   "id": "cb2c5baf-4d36-4b5e-9f2f-4bc7af010a7e",
   "metadata": {},
   "outputs": [
    {
     "data": {
      "image/png": "[encoded data removed]",
      "text/latex": [
       "$\\displaystyle 4 x^{3} + \\sin{\\left(x \\right)}$"
      ],
      "text/plain": [
       "   3         \n",
       "4⋅x  + sin(x)"
      ]
     },
     "execution_count": 24,
     "metadata": {},
     "output_type": "execute_result"
    }
   ],
   "source": [
    "integrate(12 * x**2 + cos(x))"
   ]
  },
  {
   "cell_type": "code",
   "execution_count": null,
   "id": "5678d4cb-8aa3-4282-bf69-3c2f7d9575e8",
   "metadata": {},
   "outputs": [],
   "source": []
  }
 ],
 "metadata": {
  "kernelspec": {
   "display_name": "Python 3 (ipykernel)",
   "language": "python",
   "name": "python3"
  },
  "language_info": {
   "codemirror_mode": {
    "name": "ipython",
    "version": 3
   },
   "file_extension": ".py",
   "mimetype": "text/x-python",
   "name": "python",
   "nbconvert_exporter": "python",
   "pygments_lexer": "ipython3",
   "version": "3.10.2"
  }
 },
 "nbformat": 4,
 "nbformat_minor": 5
}
